{
  "metadata": {
    "kernelspec": {
      "name": "python",
      "display_name": "Python (Pyodide)",
      "language": "python"
    },
    "language_info": {
      "codemirror_mode": {
        "name": "python",
        "version": 3
      },
      "file_extension": ".py",
      "mimetype": "text/x-python",
      "name": "python",
      "nbconvert_exporter": "python",
      "pygments_lexer": "ipython3",
      "version": "3.8"
    }
  },
  "nbformat_minor": 4,
  "nbformat": 4,
  "cells": [
    {
      "cell_type": "markdown",
      "source": "# Data Science Tools and Ecosystem",
      "metadata": {}
    },
    {
      "cell_type": "markdown",
      "source": "# Introduction\n\nIn this notebook, Data Science Tools and Ecosystem are summarized, providing an overview of the essential tools and their functionalities used in the field of data science.\n",
      "metadata": {}
    },
    {
      "cell_type": "markdown",
      "source": "# Data Science Languages\n\nSome of the popular languages that Data Scientists use are:\n\n1. Python\n2. R\n3. SQL\n4. Julia\n",
      "metadata": {}
    },
    {
      "cell_type": "markdown",
      "source": "# Data Science Libraries\n\nSome of the commonly used libraries used by Data Scientists include:\n\n1. Pandas\n2. NumPy\n3. Scikit\n4. Matplotlib\n5. TensorFlow\n",
      "metadata": {}
    },
    {
      "cell_type": "markdown",
      "source": "# Data Science Tools\n\n| Data Science Tools       |\n|--------------------------|\n| Jupyter Notebook          |\n| RStudio                   |\n| Apache Zeppelin           |\n",
      "metadata": {}
    },
    {
      "cell_type": "markdown",
      "source": "### Arithmetic Expression Examples\n\nBelow are a few examples of evaluating arithmetic expressions in Python.\n",
      "metadata": {}
    },
    {
      "cell_type": "code",
      "source": "# This is a simple arithmetic expression to multiply then add integers\nresult = (3 * 4) + 5\nresult\n",
      "metadata": {
        "trusted": true
      },
      "outputs": [
        {
          "execution_count": 1,
          "output_type": "execute_result",
          "data": {
            "text/plain": "17"
          },
          "metadata": {}
        }
      ],
      "execution_count": 1
    },
    {
      "cell_type": "code",
      "source": "# This will convert 200 minutes to hours by dividing by 60\nhours = 200 / 60\nhours\n",
      "metadata": {
        "trusted": true
      },
      "outputs": [
        {
          "execution_count": 2,
          "output_type": "execute_result",
          "data": {
            "text/plain": "3.3333333333333335"
          },
          "metadata": {}
        }
      ],
      "execution_count": 2
    },
    {
      "cell_type": "markdown",
      "source": "**Objectives:**\n\n- List popular languages for Data Science\n- Identify commonly used libraries in Data Science\n- Summarize Data Science tools and their functionalities\n- Demonstrate arithmetic operations in Python\n- Convert minutes to hours using Python expressions\n",
      "metadata": {}
    },
    {
      "cell_type": "code",
      "source": "## Author\n\nLuis Felipe Camara Perez\n",
      "metadata": {
        "trusted": true
      },
      "outputs": [],
      "execution_count": null
    },
    {
      "cell_type": "code",
      "source": "",
      "metadata": {
        "trusted": true
      },
      "outputs": [],
      "execution_count": null
    }
  ]
}